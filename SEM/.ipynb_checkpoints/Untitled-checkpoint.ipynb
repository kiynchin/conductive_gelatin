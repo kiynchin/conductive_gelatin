{
 "cells": [
  {
   "cell_type": "code",
   "execution_count": 6,
   "id": "6b6a967c-98c6-40c6-8768-b172005bf731",
   "metadata": {},
   "outputs": [
    {
     "name": "stdout",
     "output_type": "stream",
     "text": [
      "[]\n",
      "Empty DataFrame\n",
      "Columns: [FileName, SilverRichThickness, SilverPoorThickness, ThicknessRatio]\n",
      "Index: []\n"
     ]
    }
   ],
   "source": [
    "import os\n",
    "import numpy as np\n",
    "from PIL import Image\n",
    "import matplotlib.pyplot as plt\n",
    "import pandas as pd\n",
    "\n",
    "def select_scalebar(image_path):\n",
    "    \"\"\"Select two points marking the ends of the scalebar and return the pixel distance and micrometer distance.\"\"\"\n",
    "    image = Image.open(image_path)\n",
    "    plt.imshow(image)\n",
    "    plt.title('Select two points marking the ends of the scalebar')\n",
    "    \n",
    "    points = plt.ginput(2)\n",
    "    plt.close()\n",
    "    \n",
    "    pixel_distance = np.sqrt((points[1][0] - points[0][0])**2 + (points[1][1] - points[0][1])**2)\n",
    "    micrometer_distance = float(input(\"Enter the distance in micrometers this corresponds to: \"))\n",
    "    \n",
    "    return pixel_distance, micrometer_distance\n",
    "\n",
    "def measure_layer_thickness(image_path):\n",
    "    \"\"\"Measures the thickness of a layer by selecting points along one edge and then the corresponding points on the other edge.\"\"\"\n",
    "    image = Image.open(image_path)\n",
    "    plt.imshow(image)\n",
    "    plt.title('Select points along one edge; press Enter when done')\n",
    "    \n",
    "    edge_points = plt.ginput(n=-1)\n",
    "    distances = []\n",
    "    \n",
    "    for point in edge_points:\n",
    "        plt.imshow(image)\n",
    "        plt.plot(point[0], point[1], 'ro')  # Mark the selected point\n",
    "        plt.title('Select the corresponding point on the other edge')\n",
    "        \n",
    "        other_point = plt.ginput(1)[0]\n",
    "        plt.close()\n",
    "        \n",
    "        distance = np.sqrt((other_point[0] - point[0])**2 + (other_point[1] - point[1])**2)\n",
    "        distances.append(distance)\n",
    "    \n",
    "    average_thickness = np.mean(distances)\n",
    "    \n",
    "    return average_thickness\n",
    "\n",
    "def calculate_thickness_ratios(image_path):\n",
    "    print(\"Measuring Silver rich layer...\")\n",
    "    silver_rich_thickness = measure_layer_thickness(image_path)\n",
    "    \n",
    "    print(\"Measuring Silver poor layer...\")\n",
    "    silver_poor_thickness = measure_layer_thickness(image_path)\n",
    "    \n",
    "    ratio = silver_rich_thickness / (silver_rich_thickness + silver_poor_thickness)\n",
    "    \n",
    "    return silver_rich_thickness, silver_poor_thickness, ratio\n",
    "\n",
    "def process_folder(folder_path):\n",
    "    file_names = [f for f in os.listdir(folder_path) if f.endswith('.TIFF')]\n",
    "    data = {\n",
    "        'FileName': [],\n",
    "        'SilverRichThickness': [],\n",
    "        'SilverPoorThickness': [],\n",
    "        'ThicknessRatio': [],\n",
    "    }\n",
    "    \n",
    "    for file_name in file_names:\n",
    "        print(f\"Processing {file_name}...\")\n",
    "        image_path = os.path.join(folder_path, file_name)\n",
    "        pixel_distance, micrometer_distance = select_scalebar(image_path)\n",
    "        \n",
    "        silver_rich_thickness, silver_poor_thickness, ratio = calculate_thickness_ratios(image_path)\n",
    "        \n",
    "        # Convert pixel thickness to micrometers using the scale from the scalebar\n",
    "        scale = micrometer_distance / pixel_distance\n",
    "        silver_rich_thickness *= scale\n",
    "        silver_poor_thickness *= scale\n",
    "        \n",
    "        data['FileName'].append(file_name)\n",
    "        data['SilverRichThickness'].append(silver_rich_thickness)\n",
    "        data['SilverPoorThickness'].append(silver_poor_thickness)\n",
    "        data['ThicknessRatio'].append(ratio)\n",
    "    \n",
    "    df = pd.DataFrame(data)\n",
    "    return df\n",
    "\n",
    "# Example of running the script on a folder of .TIFF files\n",
    "folder_path = os.getcwd()\n",
    "df = process_folder(folder_path)\n",
    "print(df)\n"
   ]
  },
  {
   "cell_type": "code",
   "execution_count": 2,
   "id": "0d0d80dd-3ce1-45fe-86f2-30f3535478da",
   "metadata": {},
   "outputs": [
    {
     "data": {
      "text/plain": [
       "'images'"
      ]
     },
     "execution_count": 2,
     "metadata": {},
     "output_type": "execute_result"
    }
   ],
   "source": [
    "folder_path"
   ]
  },
  {
   "cell_type": "code",
   "execution_count": null,
   "id": "4c5e811e-257a-4e41-98d9-6ff9b84f90ba",
   "metadata": {},
   "outputs": [],
   "source": []
  }
 ],
 "metadata": {
  "kernelspec": {
   "display_name": "Python 3 (ipykernel)",
   "language": "python",
   "name": "python3"
  },
  "language_info": {
   "codemirror_mode": {
    "name": "ipython",
    "version": 3
   },
   "file_extension": ".py",
   "mimetype": "text/x-python",
   "name": "python",
   "nbconvert_exporter": "python",
   "pygments_lexer": "ipython3",
   "version": "3.10.13"
  }
 },
 "nbformat": 4,
 "nbformat_minor": 5
}
